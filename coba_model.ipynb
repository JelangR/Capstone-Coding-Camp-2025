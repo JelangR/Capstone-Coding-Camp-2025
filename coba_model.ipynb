{
 "cells": [
  {
   "cell_type": "markdown",
   "id": "14f99737",
   "metadata": {},
   "source": [
    "# Import Modul"
   ]
  },
  {
   "cell_type": "code",
   "execution_count": 15,
   "id": "c4459bda",
   "metadata": {},
   "outputs": [
    {
     "ename": "ModuleNotFoundError",
     "evalue": "No module named 'tensorflowjs'",
     "output_type": "error",
     "traceback": [
      "\u001b[1;31m---------------------------------------------------------------------------\u001b[0m",
      "\u001b[1;31mModuleNotFoundError\u001b[0m                       Traceback (most recent call last)",
      "Cell \u001b[1;32mIn[15], line 9\u001b[0m\n\u001b[0;32m      7\u001b[0m \u001b[38;5;28;01mfrom\u001b[39;00m \u001b[38;5;21;01murllib\u001b[39;00m\u001b[38;5;21;01m.\u001b[39;00m\u001b[38;5;21;01mparse\u001b[39;00m \u001b[38;5;28;01mimport\u001b[39;00m urlparse, parse_qs\n\u001b[0;32m      8\u001b[0m \u001b[38;5;28;01mimport\u001b[39;00m \u001b[38;5;21;01mos\u001b[39;00m\n\u001b[1;32m----> 9\u001b[0m \u001b[38;5;28;01mimport\u001b[39;00m \u001b[38;5;21;01mtensorflowjs\u001b[39;00m \u001b[38;5;28;01mas\u001b[39;00m \u001b[38;5;21;01mtfjs\u001b[39;00m\n",
      "\u001b[1;31mModuleNotFoundError\u001b[0m: No module named 'tensorflowjs'"
     ]
    }
   ],
   "source": [
    "import pandas as pd\n",
    "import numpy as np\n",
    "import tensorflow as tf\n",
    "from tensorflow.keras.layers import TextVectorization\n",
    "from sklearn.metrics.pairwise import cosine_similarity\n",
    "from flask import Flask, render_template, request, jsonify\n",
    "from urllib.parse import urlparse, parse_qs\n",
    "import os\n",
    "import tensorflowjs as tfjs\n"
   ]
  },
  {
   "cell_type": "markdown",
   "id": "ded336fe",
   "metadata": {},
   "source": [
    "# Data Loading"
   ]
  },
  {
   "cell_type": "code",
   "execution_count": 2,
   "id": "7e43a4cd",
   "metadata": {},
   "outputs": [],
   "source": [
    "DATA_PATH = os.path.join('data', 'Dataset (2).xlsx') \n",
    "df = pd.read_excel(DATA_PATH, sheet_name='Final-BioSMA')"
   ]
  },
  {
   "cell_type": "markdown",
   "id": "3f258409",
   "metadata": {},
   "source": [
    "# Preprocessing"
   ]
  },
  {
   "cell_type": "code",
   "execution_count": 3,
   "id": "7235d14d",
   "metadata": {},
   "outputs": [],
   "source": [
    "df[\"input_text\"] = (\n",
    "    df[\"Mata Pelajaran\"] + \" \" +\n",
    "    df[\"Materi\"] + \" \" +\n",
    "    df[\"Sub Materi\"].fillna(\"\") + \" \" +\n",
    "    df[\"Jenjang\"].astype(str) \n",
    ")\n",
    "df[\"output_text\"] = df['Jenjang'].astype(str) + \" | \" + df[\"Materi\"] + \" | \" + df[\"Sub Materi\"] + \" | \" + df[\"Link\"]"
   ]
  },
  {
   "cell_type": "code",
   "execution_count": 4,
   "id": "bd7c9ff1",
   "metadata": {},
   "outputs": [],
   "source": [
    "vectorizer = TextVectorization(output_mode=\"tf-idf\", max_tokens=10000, ngrams=(1,2))\n",
    "text_ds = tf.data.Dataset.from_tensor_slices(df[\"input_text\"]).batch(32)\n",
    "vectorizer.adapt(text_ds)\n",
    "\n",
    "X_input = vectorizer(df[\"input_text\"])"
   ]
  },
  {
   "cell_type": "markdown",
   "id": "757e7ec6",
   "metadata": {},
   "source": [
    "# Modeling"
   ]
  },
  {
   "cell_type": "code",
   "execution_count": 5,
   "id": "1f8d542f",
   "metadata": {},
   "outputs": [],
   "source": [
    "input_dim = X_input.shape[1]\n",
    "input_layer = tf.keras.Input(shape=(input_dim,))\n",
    "\n",
    "# Encoder\n",
    "x = tf.keras.layers.Dense(512, activation=\"relu\")(input_layer)\n",
    "x = tf.keras.layers.Dense(256, activation=\"relu\")(x)\n",
    "encoded = tf.keras.layers.Dense(64, activation=\"relu\")(x) \n",
    "\n",
    "# Decoder\n",
    "x = tf.keras.layers.Dense(256, activation=\"relu\")(encoded)\n",
    "x = tf.keras.layers.Dense(512, activation=\"relu\")(x)\n",
    "decoded = tf.keras.layers.Dense(input_dim, activation=\"linear\")(x)\n",
    "\n"
   ]
  },
  {
   "cell_type": "code",
   "execution_count": 6,
   "id": "5e6822ba",
   "metadata": {},
   "outputs": [],
   "source": [
    "autoencoder = tf.keras.Model(inputs=input_layer, outputs=decoded)\n",
    "autoencoder.compile(optimizer='adam', loss='mse')"
   ]
  },
  {
   "cell_type": "code",
   "execution_count": 7,
   "id": "298c38ea",
   "metadata": {},
   "outputs": [
    {
     "data": {
      "text/plain": [
       "<keras.src.callbacks.history.History at 0x1a2d9c7cb50>"
      ]
     },
     "execution_count": 7,
     "metadata": {},
     "output_type": "execute_result"
    }
   ],
   "source": [
    "autoencoder.fit(X_input, X_input, \n",
    "                epochs=100, \n",
    "                verbose=0)"
   ]
  },
  {
   "cell_type": "code",
   "execution_count": 8,
   "id": "39ec9c7f",
   "metadata": {},
   "outputs": [
    {
     "name": "stdout",
     "output_type": "stream",
     "text": [
      "\u001b[1m13/13\u001b[0m \u001b[32m━━━━━━━━━━━━━━━━━━━━\u001b[0m\u001b[37m\u001b[0m \u001b[1m0s\u001b[0m 12ms/step\n"
     ]
    }
   ],
   "source": [
    "encoder = tf.keras.Model(inputs=input_layer, outputs=encoded)\n",
    "embedded_vectors = encoder.predict(X_input)"
   ]
  },
  {
   "cell_type": "code",
   "execution_count": 9,
   "id": "9cfa7e27",
   "metadata": {},
   "outputs": [],
   "source": [
    "# Fungsi Rekomendasi\n",
    "def get_recommendations(query, df, vectorizer, encoder, embedded_vectors, top_n=5):\n",
    "    query_vectorized = vectorizer([query])\n",
    "    query_embedded = encoder.predict(query_vectorized)\n",
    "    similarities = cosine_similarity(query_embedded, embedded_vectors).flatten()\n",
    "    most_similar_indices = similarities.argsort()[-top_n:][::-1]\n",
    "    return df.loc[most_similar_indices, [\"Jenjang\",\"Materi\", \"Sub Materi\", \"Link\", \"output_text\"]]"
   ]
  },
  {
   "cell_type": "markdown",
   "id": "619b88bc",
   "metadata": {},
   "source": [
    "# Deploy Model"
   ]
  },
  {
   "cell_type": "code",
   "execution_count": 12,
   "id": "2d36dcb6",
   "metadata": {},
   "outputs": [],
   "source": [
    "encoder.save('model\\model.keras')"
   ]
  },
  {
   "cell_type": "code",
   "execution_count": 13,
   "id": "e7e3082d",
   "metadata": {},
   "outputs": [
    {
     "name": "stderr",
     "output_type": "stream",
     "text": [
      "WARNING:absl:You are saving your model as an HDF5 file via `model.save()` or `keras.saving.save_model(model)`. This file format is considered legacy. We recommend using instead the native Keras format, e.g. `model.save('my_model.keras')` or `keras.saving.save_model(model, 'my_model.keras')`. \n"
     ]
    }
   ],
   "source": [
    "encoder.save('model\\model.h5')"
   ]
  },
  {
   "cell_type": "markdown",
   "id": "5af2538e",
   "metadata": {},
   "source": [
    "# Convert Model"
   ]
  },
  {
   "cell_type": "code",
   "execution_count": null,
   "id": "549e4eae",
   "metadata": {},
   "outputs": [
    {
     "ename": "SyntaxError",
     "evalue": "cannot assign to expression here. Maybe you meant '==' instead of '='? (1866563061.py, line 1)",
     "output_type": "error",
     "traceback": [
      "\u001b[1;36m  Cell \u001b[1;32mIn[14], line 1\u001b[1;36m\u001b[0m\n\u001b[1;33m    tensorflowjs_converter --input_format=keras model.keras ./tfjs_model\u001b[0m\n\u001b[1;37m    ^\u001b[0m\n\u001b[1;31mSyntaxError\u001b[0m\u001b[1;31m:\u001b[0m cannot assign to expression here. Maybe you meant '==' instead of '='?\n"
     ]
    }
   ],
   "source": [
    "model="
   ]
  }
 ],
 "metadata": {
  "kernelspec": {
   "display_name": "Python 3",
   "language": "python",
   "name": "python3"
  },
  "language_info": {
   "codemirror_mode": {
    "name": "ipython",
    "version": 3
   },
   "file_extension": ".py",
   "mimetype": "text/x-python",
   "name": "python",
   "nbconvert_exporter": "python",
   "pygments_lexer": "ipython3",
   "version": "3.11.9"
  }
 },
 "nbformat": 4,
 "nbformat_minor": 5
}
